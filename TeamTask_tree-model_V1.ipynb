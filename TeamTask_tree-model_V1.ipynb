{
 "cells": [
  {
   "cell_type": "markdown",
   "metadata": {
    "_cell_guid": "d006e9e6-e191-4918-b8c1-5730f1d08e77",
    "_uuid": "ae5d947988d70f9ccbea3345f396c8394e7b1e4b"
   },
   "source": [
    "# 男生藏多少私房钱女生可以容忍！\n",
    "## Vcamp团队任务\n",
    "### 组员：刘刚，李宜烜，聂海，张琮，程林，顾岩，陈文燕，李思琪（无顺序）"
   ]
  },
  {
   "cell_type": "code",
   "execution_count": 333,
   "metadata": {},
   "outputs": [
    {
     "data": {
      "text/html": [
       "<div>\n",
       "<style scoped>\n",
       "    .dataframe tbody tr th:only-of-type {\n",
       "        vertical-align: middle;\n",
       "    }\n",
       "\n",
       "    .dataframe tbody tr th {\n",
       "        vertical-align: top;\n",
       "    }\n",
       "\n",
       "    .dataframe thead th {\n",
       "        text-align: right;\n",
       "    }\n",
       "</style>\n",
       "<table border=\"1\" class=\"dataframe\">\n",
       "  <thead>\n",
       "    <tr style=\"text-align: right;\">\n",
       "      <th></th>\n",
       "      <th>w_age</th>\n",
       "      <th>w_salary</th>\n",
       "      <th>w_face</th>\n",
       "      <th>w_char</th>\n",
       "      <th>m_age</th>\n",
       "      <th>m_salary</th>\n",
       "      <th>m_face</th>\n",
       "      <th>m_char</th>\n",
       "      <th>pri-money</th>\n",
       "    </tr>\n",
       "  </thead>\n",
       "  <tbody>\n",
       "    <tr>\n",
       "      <th>0</th>\n",
       "      <td>2.534481</td>\n",
       "      <td>3.426793</td>\n",
       "      <td>2.993324</td>\n",
       "      <td>1.715625</td>\n",
       "      <td>1.567287</td>\n",
       "      <td>3.887500</td>\n",
       "      <td>0.999981</td>\n",
       "      <td>1.012488</td>\n",
       "      <td>NaN</td>\n",
       "    </tr>\n",
       "    <tr>\n",
       "      <th>1</th>\n",
       "      <td>0.922911</td>\n",
       "      <td>4.412530</td>\n",
       "      <td>0.921405</td>\n",
       "      <td>2.412992</td>\n",
       "      <td>0.121297</td>\n",
       "      <td>0.573938</td>\n",
       "      <td>2.936225</td>\n",
       "      <td>2.842898</td>\n",
       "      <td>NaN</td>\n",
       "    </tr>\n",
       "    <tr>\n",
       "      <th>2</th>\n",
       "      <td>0.635133</td>\n",
       "      <td>4.195386</td>\n",
       "      <td>2.977828</td>\n",
       "      <td>0.491394</td>\n",
       "      <td>2.552982</td>\n",
       "      <td>1.176057</td>\n",
       "      <td>0.216414</td>\n",
       "      <td>2.216207</td>\n",
       "      <td>NaN</td>\n",
       "    </tr>\n",
       "    <tr>\n",
       "      <th>3</th>\n",
       "      <td>0.035666</td>\n",
       "      <td>2.017434</td>\n",
       "      <td>2.361614</td>\n",
       "      <td>1.440517</td>\n",
       "      <td>1.704410</td>\n",
       "      <td>4.436659</td>\n",
       "      <td>1.753608</td>\n",
       "      <td>2.387773</td>\n",
       "      <td>NaN</td>\n",
       "    </tr>\n",
       "    <tr>\n",
       "      <th>4</th>\n",
       "      <td>0.738665</td>\n",
       "      <td>1.696820</td>\n",
       "      <td>1.855144</td>\n",
       "      <td>0.667041</td>\n",
       "      <td>2.370438</td>\n",
       "      <td>3.048941</td>\n",
       "      <td>1.266400</td>\n",
       "      <td>2.940310</td>\n",
       "      <td>NaN</td>\n",
       "    </tr>\n",
       "  </tbody>\n",
       "</table>\n",
       "</div>"
      ],
      "text/plain": [
       "      w_age  w_salary    w_face    w_char     m_age  m_salary    m_face  \\\n",
       "0  2.534481  3.426793  2.993324  1.715625  1.567287  3.887500  0.999981   \n",
       "1  0.922911  4.412530  0.921405  2.412992  0.121297  0.573938  2.936225   \n",
       "2  0.635133  4.195386  2.977828  0.491394  2.552982  1.176057  0.216414   \n",
       "3  0.035666  2.017434  2.361614  1.440517  1.704410  4.436659  1.753608   \n",
       "4  0.738665  1.696820  1.855144  0.667041  2.370438  3.048941  1.266400   \n",
       "\n",
       "     m_char pri-money  \n",
       "0  1.012488       NaN  \n",
       "1  2.842898       NaN  \n",
       "2  2.216207       NaN  \n",
       "3  2.387773       NaN  \n",
       "4  2.940310       NaN  "
      ]
     },
     "execution_count": 333,
     "metadata": {},
     "output_type": "execute_result"
    }
   ],
   "source": [
    "import pandas as pd\n",
    "import random\n",
    "sample_num = 256\n",
    "feature_num = 9\n",
    "df = pd.DataFrame(data=None,columns=range(0,feature_num), index=range(0,sample_num))\n",
    "df.columns = ['w_age','w_salary','w_face','w_char','m_age','m_salary','m_face','m_char','pri-money']\n",
    "index_line = [i for i in range(0,sample_num)]\n",
    "df.index = index_line\n",
    "for i in range(0,feature_num):\n",
    "    if \"salary\" in df.columns[i] and 'pri-money' not in df.columns[i]: \n",
    "        df[df.columns[i]] = [random.uniform(0,5) for i in range(0,sample_num)]\n",
    "    elif 'pri-money' not in df.columns[i]:\n",
    "        df[df.columns[i]] = [random.uniform(0,3) for i in range(0,sample_num)]\n",
    "df.head()"
   ]
  },
  {
   "cell_type": "code",
   "execution_count": 334,
   "metadata": {},
   "outputs": [
    {
     "data": {
      "text/html": [
       "<div>\n",
       "<style scoped>\n",
       "    .dataframe tbody tr th:only-of-type {\n",
       "        vertical-align: middle;\n",
       "    }\n",
       "\n",
       "    .dataframe tbody tr th {\n",
       "        vertical-align: top;\n",
       "    }\n",
       "\n",
       "    .dataframe thead th {\n",
       "        text-align: right;\n",
       "    }\n",
       "</style>\n",
       "<table border=\"1\" class=\"dataframe\">\n",
       "  <thead>\n",
       "    <tr style=\"text-align: right;\">\n",
       "      <th></th>\n",
       "      <th>w_age</th>\n",
       "      <th>w_salary</th>\n",
       "      <th>w_face</th>\n",
       "      <th>w_char</th>\n",
       "      <th>m_age</th>\n",
       "      <th>m_salary</th>\n",
       "      <th>m_face</th>\n",
       "      <th>m_char</th>\n",
       "      <th>pri-money</th>\n",
       "    </tr>\n",
       "  </thead>\n",
       "  <tbody>\n",
       "    <tr>\n",
       "      <th>0</th>\n",
       "      <td>2.534481</td>\n",
       "      <td>3.426793</td>\n",
       "      <td>2.993324</td>\n",
       "      <td>1.715625</td>\n",
       "      <td>1.567287</td>\n",
       "      <td>3.887500</td>\n",
       "      <td>0.999981</td>\n",
       "      <td>1.012488</td>\n",
       "      <td>2.265614</td>\n",
       "    </tr>\n",
       "    <tr>\n",
       "      <th>1</th>\n",
       "      <td>0.922911</td>\n",
       "      <td>4.412530</td>\n",
       "      <td>0.921405</td>\n",
       "      <td>2.412992</td>\n",
       "      <td>0.121297</td>\n",
       "      <td>0.573938</td>\n",
       "      <td>2.936225</td>\n",
       "      <td>2.842898</td>\n",
       "      <td>2.096199</td>\n",
       "    </tr>\n",
       "    <tr>\n",
       "      <th>2</th>\n",
       "      <td>0.635133</td>\n",
       "      <td>4.195386</td>\n",
       "      <td>2.977828</td>\n",
       "      <td>0.491394</td>\n",
       "      <td>2.552982</td>\n",
       "      <td>1.176057</td>\n",
       "      <td>0.216414</td>\n",
       "      <td>2.216207</td>\n",
       "      <td>1.901153</td>\n",
       "    </tr>\n",
       "    <tr>\n",
       "      <th>3</th>\n",
       "      <td>0.035666</td>\n",
       "      <td>2.017434</td>\n",
       "      <td>2.361614</td>\n",
       "      <td>1.440517</td>\n",
       "      <td>1.704410</td>\n",
       "      <td>4.436659</td>\n",
       "      <td>1.753608</td>\n",
       "      <td>2.387773</td>\n",
       "      <td>2.076393</td>\n",
       "    </tr>\n",
       "    <tr>\n",
       "      <th>4</th>\n",
       "      <td>0.738665</td>\n",
       "      <td>1.696820</td>\n",
       "      <td>1.855144</td>\n",
       "      <td>0.667041</td>\n",
       "      <td>2.370438</td>\n",
       "      <td>3.048941</td>\n",
       "      <td>1.266400</td>\n",
       "      <td>2.940310</td>\n",
       "      <td>1.907335</td>\n",
       "    </tr>\n",
       "  </tbody>\n",
       "</table>\n",
       "</div>"
      ],
      "text/plain": [
       "      w_age  w_salary    w_face    w_char     m_age  m_salary    m_face  \\\n",
       "0  2.534481  3.426793  2.993324  1.715625  1.567287  3.887500  0.999981   \n",
       "1  0.922911  4.412530  0.921405  2.412992  0.121297  0.573938  2.936225   \n",
       "2  0.635133  4.195386  2.977828  0.491394  2.552982  1.176057  0.216414   \n",
       "3  0.035666  2.017434  2.361614  1.440517  1.704410  4.436659  1.753608   \n",
       "4  0.738665  1.696820  1.855144  0.667041  2.370438  3.048941  1.266400   \n",
       "\n",
       "     m_char  pri-money  \n",
       "0  1.012488   2.265614  \n",
       "1  2.842898   2.096199  \n",
       "2  2.216207   1.901153  \n",
       "3  2.387773   2.076393  \n",
       "4  2.940310   1.907335  "
      ]
     },
     "execution_count": 334,
     "metadata": {},
     "output_type": "execute_result"
    }
   ],
   "source": [
    "penc = [0.105, 0.175, 0.025, 0.185, 0.135, 0.145, 0.045, 0.185]\n",
    "tmp = [0 for i in range(0,sample_num)]\n",
    "for i in range(len(penc)):\n",
    "    tmp += penc[i]*df[df.columns[i]]\n",
    "df['pri-money'] = tmp\n",
    "df.head()\n",
    "#1.681030*penc[0]+3.071826*penc[1]+1.125127*penc[2]+0.883734*penc[3]+0.740135*penc[4]+0.319263*penc[5]+1.619885*penc[6]+2.922581*penc[7]"
   ]
  },
  {
   "cell_type": "markdown",
   "metadata": {},
   "source": [
    "### 生成训练集，其中test传入待测试的特征，即交互界面上输入的特征"
   ]
  },
  {
   "cell_type": "code",
   "execution_count": 335,
   "metadata": {},
   "outputs": [
    {
     "name": "stdout",
     "output_type": "stream",
     "text": [
      "(220, 8) \n",
      " [[3 2 2 2 1 2 3 3]]\n"
     ]
    },
    {
     "data": {
      "text/html": [
       "<div>\n",
       "<style scoped>\n",
       "    .dataframe tbody tr th:only-of-type {\n",
       "        vertical-align: middle;\n",
       "    }\n",
       "\n",
       "    .dataframe tbody tr th {\n",
       "        vertical-align: top;\n",
       "    }\n",
       "\n",
       "    .dataframe thead th {\n",
       "        text-align: right;\n",
       "    }\n",
       "</style>\n",
       "<table border=\"1\" class=\"dataframe\">\n",
       "  <thead>\n",
       "    <tr style=\"text-align: right;\">\n",
       "      <th></th>\n",
       "      <th>w_age</th>\n",
       "      <th>w_salary</th>\n",
       "      <th>w_face</th>\n",
       "      <th>w_char</th>\n",
       "      <th>m_age</th>\n",
       "      <th>m_salary</th>\n",
       "      <th>m_face</th>\n",
       "      <th>m_char</th>\n",
       "    </tr>\n",
       "  </thead>\n",
       "  <tbody>\n",
       "    <tr>\n",
       "      <th>0</th>\n",
       "      <td>3.0</td>\n",
       "      <td>4.0</td>\n",
       "      <td>3.0</td>\n",
       "      <td>2.0</td>\n",
       "      <td>2.0</td>\n",
       "      <td>4.0</td>\n",
       "      <td>1.0</td>\n",
       "      <td>2.0</td>\n",
       "    </tr>\n",
       "    <tr>\n",
       "      <th>1</th>\n",
       "      <td>1.0</td>\n",
       "      <td>5.0</td>\n",
       "      <td>1.0</td>\n",
       "      <td>3.0</td>\n",
       "      <td>1.0</td>\n",
       "      <td>1.0</td>\n",
       "      <td>3.0</td>\n",
       "      <td>3.0</td>\n",
       "    </tr>\n",
       "    <tr>\n",
       "      <th>2</th>\n",
       "      <td>1.0</td>\n",
       "      <td>5.0</td>\n",
       "      <td>3.0</td>\n",
       "      <td>1.0</td>\n",
       "      <td>3.0</td>\n",
       "      <td>2.0</td>\n",
       "      <td>1.0</td>\n",
       "      <td>3.0</td>\n",
       "    </tr>\n",
       "    <tr>\n",
       "      <th>3</th>\n",
       "      <td>1.0</td>\n",
       "      <td>3.0</td>\n",
       "      <td>3.0</td>\n",
       "      <td>2.0</td>\n",
       "      <td>2.0</td>\n",
       "      <td>5.0</td>\n",
       "      <td>2.0</td>\n",
       "      <td>3.0</td>\n",
       "    </tr>\n",
       "    <tr>\n",
       "      <th>4</th>\n",
       "      <td>1.0</td>\n",
       "      <td>2.0</td>\n",
       "      <td>2.0</td>\n",
       "      <td>1.0</td>\n",
       "      <td>3.0</td>\n",
       "      <td>4.0</td>\n",
       "      <td>2.0</td>\n",
       "      <td>3.0</td>\n",
       "    </tr>\n",
       "  </tbody>\n",
       "</table>\n",
       "</div>"
      ],
      "text/plain": [
       "   w_age  w_salary  w_face  w_char  m_age  m_salary  m_face  m_char\n",
       "0    3.0       4.0     3.0     2.0    2.0       4.0     1.0     2.0\n",
       "1    1.0       5.0     1.0     3.0    1.0       1.0     3.0     3.0\n",
       "2    1.0       5.0     3.0     1.0    3.0       2.0     1.0     3.0\n",
       "3    1.0       3.0     3.0     2.0    2.0       5.0     2.0     3.0\n",
       "4    1.0       2.0     2.0     1.0    3.0       4.0     2.0     3.0"
      ]
     },
     "execution_count": 335,
     "metadata": {},
     "output_type": "execute_result"
    }
   ],
   "source": [
    "import math\n",
    "df = round(df+0.5) #向上取整\n",
    "train = df[0:220]\n",
    "tmp = df[-1:]\n",
    "test_y = tmp['pri-money']\n",
    "# test = np.array(df[-1:].drop(['pri-money'],axis = 1))\n",
    "test = np.array([[3,2,2,2,1,2,3,3]])\n",
    "train_y = train['pri-money']\n",
    "# test_y = test['pri-money']\n",
    "train = train.drop(['pri-money'],axis = 1)\n",
    "#train = round(train+0.5)\n",
    "print(train.shape,'\\n',test)\n",
    "train.head()"
   ]
  },
  {
   "cell_type": "code",
   "execution_count": 336,
   "metadata": {},
   "outputs": [
    {
     "name": "stdout",
     "output_type": "stream",
     "text": [
      "The train data size before dropping Id feature is : (220, 8) \n"
     ]
    }
   ],
   "source": [
    "# train = df[0:200]\n",
    "# test = df[200:df.shape[0]]\n",
    "# train = df\n",
    "# train_y = train['pri-money']\n",
    "# # test_y = test['pri-money']\n",
    "# train = train.drop(['pri-money'],axis = 1)\n",
    "# test = test.drop(['pri-money'],axis = 1)\n",
    "#check the numbers of samples and features\n",
    "print(\"The train data size before dropping Id feature is : {} \".format(train.shape))\n",
    "# print(\"The test data size before dropping Id feature is : {} \".format(test.shape))"
   ]
  },
  {
   "cell_type": "code",
   "execution_count": 323,
   "metadata": {},
   "outputs": [],
   "source": [
    "from sklearn.linear_model import ElasticNet, Lasso,  BayesianRidge, LassoLarsIC\n",
    "from sklearn.ensemble import RandomForestRegressor,  GradientBoostingRegressor\n",
    "from sklearn.kernel_ridge import KernelRidge\n",
    "from sklearn.pipeline import make_pipeline\n",
    "from sklearn.preprocessing import RobustScaler\n",
    "from sklearn.base import BaseEstimator, TransformerMixin, RegressorMixin, clone\n",
    "from sklearn.model_selection import KFold, cross_val_score, train_test_split\n",
    "from sklearn.metrics import mean_squared_error\n",
    "import xgboost as xgb\n",
    "import lightgbm as lgb\n",
    "import numpy as np\n",
    "import warnings\n",
    "warnings.filterwarnings('ignore')"
   ]
  },
  {
   "cell_type": "markdown",
   "metadata": {},
   "source": [
    "## 定义交叉验证函数"
   ]
  },
  {
   "cell_type": "code",
   "execution_count": 337,
   "metadata": {},
   "outputs": [],
   "source": [
    "#Validation function\n",
    "n_folds = 5\n",
    "\n",
    "def rmsle_cv(model):\n",
    "    kf = KFold(n_folds, shuffle=True, random_state=42).get_n_splits(train.values)\n",
    "    rmse= np.sqrt(-cross_val_score(model, train.values, train_y, scoring=\"neg_mean_squared_error\", cv = kf))\n",
    "    return(rmse)\n",
    "def rmsle_cv_stacking(model,s_train,s_train_y):\n",
    "    kf = KFold(n_folds, shuffle=True, random_state=42).get_n_splits(train.values)\n",
    "    rmse= np.sqrt(-cross_val_score(model, s_train, s_train_y, scoring=\"neg_mean_squared_error\", cv = kf))\n",
    "    return(rmse)"
   ]
  },
  {
   "cell_type": "markdown",
   "metadata": {},
   "source": [
    "## 建立模型"
   ]
  },
  {
   "cell_type": "code",
   "execution_count": 276,
   "metadata": {},
   "outputs": [],
   "source": [
    "model_lgb = lgb.LGBMRegressor(objective='regression',num_leaves=5,\n",
    "                              learning_rate=0.05, n_estimators=2000,\n",
    "                              max_bin = 10, bagging_fraction = 0.6,\n",
    "                              bagging_freq = 10, feature_fraction = 0.2319,\n",
    "                              feature_fraction_seed=9, bagging_seed=9,\n",
    "                              min_data_in_leaf =8, min_sum_hessian_in_leaf = 8,verbose_eval=1)"
   ]
  },
  {
   "cell_type": "code",
   "execution_count": 277,
   "metadata": {},
   "outputs": [],
   "source": [
    "model_xgb = xgb.XGBRegressor(colsample_bytree=0.8603, gamma=0.0168, \n",
    "                             learning_rate=0.06, max_depth=1, \n",
    "                             min_child_weight=1.0817, n_estimators=2200,\n",
    "                             reg_alpha=0.0640, reg_lambda=0.8571,\n",
    "                             subsample=0.1003, silent=1,\n",
    "                             random_state =7, nthread = -1)\n"
   ]
  },
  {
   "cell_type": "code",
   "execution_count": 278,
   "metadata": {},
   "outputs": [],
   "source": [
    "GBoost = GradientBoostingRegressor(n_estimators=3000, learning_rate=0.07,\n",
    "                                   max_depth=1, max_features='sqrt',\n",
    "                                   min_samples_leaf=8, min_samples_split=10, \n",
    "                                   loss='huber', random_state =5)"
   ]
  },
  {
   "cell_type": "code",
   "execution_count": 279,
   "metadata": {},
   "outputs": [],
   "source": [
    "lasso = make_pipeline(RobustScaler(), Lasso(alpha =0.0005, random_state=1))"
   ]
  },
  {
   "cell_type": "code",
   "execution_count": 280,
   "metadata": {},
   "outputs": [],
   "source": [
    "ENet = make_pipeline(RobustScaler(), ElasticNet(alpha=0.0005, l1_ratio=.9, random_state=3))"
   ]
  },
  {
   "cell_type": "markdown",
   "metadata": {},
   "source": [
    "## 单模型验证和打分"
   ]
  },
  {
   "cell_type": "code",
   "execution_count": 338,
   "metadata": {},
   "outputs": [
    {
     "name": "stdout",
     "output_type": "stream",
     "text": [
      "LGBM score: 0.3188 (0.0169)\n",
      "\n",
      "[2.70254795 2.6655107  2.54940621 2.75310003 2.20866682 2.28713583\n",
      " 1.95753532 2.05202057 2.32859881 2.21455462]\n"
     ]
    }
   ],
   "source": [
    "score = rmsle_cv(model_lgb)\n",
    "print(\"LGBM score: {:.4f} ({:.4f})\\n\" .format(score.mean(), score.std()))\n",
    "model_lgb.fit(train.values,train_y)\n",
    "print(model_lgb.predict(train.values)[0:10])"
   ]
  },
  {
   "cell_type": "code",
   "execution_count": 339,
   "metadata": {},
   "outputs": [
    {
     "name": "stdout",
     "output_type": "stream",
     "text": [
      "Xgboost score: 0.3181 (0.0182)\n",
      "\n"
     ]
    }
   ],
   "source": [
    "score = rmsle_cv(model_xgb)\n",
    "print(\"Xgboost score: {:.4f} ({:.4f})\\n\".format(score.mean(), score.std()))"
   ]
  },
  {
   "cell_type": "code",
   "execution_count": 340,
   "metadata": {},
   "outputs": [
    {
     "name": "stdout",
     "output_type": "stream",
     "text": [
      "Gradient Boosting score: 0.3185 (0.0189)\n",
      "\n"
     ]
    }
   ],
   "source": [
    "score = rmsle_cv(GBoost)\n",
    "print(\"Gradient Boosting score: {:.4f} ({:.4f})\\n\".format(score.mean(), score.std()))"
   ]
  },
  {
   "cell_type": "code",
   "execution_count": 341,
   "metadata": {},
   "outputs": [
    {
     "name": "stdout",
     "output_type": "stream",
     "text": [
      "\n",
      "Lasso score: 0.3111 (0.0157)\n",
      "\n"
     ]
    }
   ],
   "source": [
    "score = rmsle_cv(lasso)\n",
    "print(\"\\nLasso score: {:.4f} ({:.4f})\\n\".format(score.mean(), score.std()))"
   ]
  },
  {
   "cell_type": "code",
   "execution_count": 342,
   "metadata": {},
   "outputs": [
    {
     "name": "stdout",
     "output_type": "stream",
     "text": [
      "ElasticNet score: 0.3111 (0.0157)\n",
      "\n"
     ]
    }
   ],
   "source": [
    "score = rmsle_cv(ENet)\n",
    "print(\"ElasticNet score: {:.4f} ({:.4f})\\n\".format(score.mean(), score.std()))"
   ]
  },
  {
   "cell_type": "markdown",
   "metadata": {},
   "source": [
    "## 模型融合Stacking test"
   ]
  },
  {
   "cell_type": "code",
   "execution_count": 343,
   "metadata": {},
   "outputs": [
    {
     "name": "stdout",
     "output_type": "stream",
     "text": [
      "[[2.63520707 2.61662476 2.60549062]\n",
      " [2.65387132 2.62761558 2.62940182]\n",
      " [2.59306556 2.5842191  2.68748663]\n",
      " [2.62026492 2.60123315 2.64556676]\n",
      " [2.13401848 2.12228188 2.2653964 ]] \n",
      "\n",
      " [[2.1371007  2.10044023 2.18686233]]\n"
     ]
    }
   ],
   "source": [
    "def stacking_fit(base_models, meta_model, X, y):\n",
    "        base_models_ = [list() for x in base_models]\n",
    "        meta_model_ = clone(meta_model)\n",
    "        kfold = KFold(n_splits=5, shuffle=True, random_state=156)\n",
    "        \n",
    "        out_of_fold_predictions = np.zeros((X.shape[0], len(base_models)))\n",
    "        out_of_fold_predictions_test = np.zeros((test.shape[0], len(base_models)))\n",
    "        for i, model in enumerate(base_models):\n",
    "            for train_index, holdout_index in kfold.split(X, y):\n",
    "                instance = clone(model)\n",
    "                base_models_[i].append(instance)\n",
    "                instance.fit(X[train_index], y[train_index])\n",
    "                y_pred = instance.predict(X[holdout_index])\n",
    "                test_pred = instance.predict(test)\n",
    "                out_of_fold_predictions[holdout_index, i] = y_pred\n",
    "                out_of_fold_predictions_test[:, i] = test_pred\n",
    "        return out_of_fold_predictions, out_of_fold_predictions_test\n",
    "        # Now train the cloned  meta-model using the out-of-fold predictions as new feature\n",
    "        ##meta_model_.fit(out_of_fold_predictions, y)\n",
    "        ##print(out_of_fold_predictions.shape)\n",
    "out_of_fold_predictions, out_of_fold_predictions_test= stacking_fit(base_models = (model_lgb, GBoost, ENet),\n",
    "                             meta_model = lasso, X=train.values, y=train_y )\n",
    "print(out_of_fold_predictions[0:5],'\\n\\n',out_of_fold_predictions_test[0:5])"
   ]
  },
  {
   "cell_type": "code",
   "execution_count": 344,
   "metadata": {},
   "outputs": [
    {
     "name": "stdout",
     "output_type": "stream",
     "text": [
      "\n",
      "Stacking score: 0.3189 (0.0103)\n",
      "\n"
     ]
    }
   ],
   "source": [
    "score = rmsle_cv_stacking(lasso, out_of_fold_predictions, train_y)\n",
    "print(\"\\nStacking score: {:.4f} ({:.4f})\\n\".format(score.mean(), score.std()))"
   ]
  },
  {
   "cell_type": "markdown",
   "metadata": {},
   "source": [
    "## Stacking predict\n",
    "**np.round(lasso.predict(out_of_fold_predictions_test) 为界面输出值**"
   ]
  },
  {
   "cell_type": "code",
   "execution_count": 346,
   "metadata": {},
   "outputs": [
    {
     "name": "stdout",
     "output_type": "stream",
     "text": [
      "test_predict: [2.]\n"
     ]
    }
   ],
   "source": [
    "lasso.fit(out_of_fold_predictions, train_y)\n",
    "print(\"test_predict:\",np.round(lasso.predict(out_of_fold_predictions_test)))\n",
    "## print('true_test_y:',test_y.values)"
   ]
  },
  {
   "cell_type": "code",
   "execution_count": null,
   "metadata": {},
   "outputs": [],
   "source": []
  },
  {
   "cell_type": "markdown",
   "metadata": {},
   "source": [
    "## 平均融合（测试用的，忽略）"
   ]
  },
  {
   "cell_type": "code",
   "execution_count": 306,
   "metadata": {},
   "outputs": [],
   "source": [
    "class AveragingModels(BaseEstimator, RegressorMixin, TransformerMixin):\n",
    "    def __init__(self, models):\n",
    "        self.models = models\n",
    "        \n",
    "    # we define clones of the original models to fit the data in\n",
    "    def fit(self, X, y):\n",
    "        self.models_ = [clone(x) for x in self.models]\n",
    "        \n",
    "        # Train cloned base models\n",
    "        for model in self.models_:\n",
    "            model.fit(X, y)\n",
    "\n",
    "        return self\n",
    "    \n",
    "    #Now we do the predictions for cloned models and average them\n",
    "    def predict(self, X):\n",
    "        predictions = np.column_stack([\n",
    "            model.predict(X) for model in self.models_\n",
    "        ])\n",
    "        return np.mean(predictions, axis=1)   "
   ]
  },
  {
   "cell_type": "code",
   "execution_count": 307,
   "metadata": {},
   "outputs": [
    {
     "name": "stdout",
     "output_type": "stream",
     "text": [
      " Averaged base models score: 0.3245 (0.0184)\n",
      "\n"
     ]
    }
   ],
   "source": [
    "averaged_models = AveragingModels(models = (model_lgb, GBoost, model_xgb))\n",
    "\n",
    "score = rmsle_cv(averaged_models)\n",
    "print(\" Averaged base models score: {:.4f} ({:.4f})\\n\".format(score.mean(), score.std()))"
   ]
  },
  {
   "cell_type": "code",
   "execution_count": null,
   "metadata": {},
   "outputs": [],
   "source": []
  },
  {
   "cell_type": "code",
   "execution_count": null,
   "metadata": {},
   "outputs": [],
   "source": []
  }
 ],
 "metadata": {
  "kernelspec": {
   "display_name": "Python 3",
   "language": "python",
   "name": "python3"
  },
  "language_info": {
   "codemirror_mode": {
    "name": "ipython",
    "version": 3
   },
   "file_extension": ".py",
   "mimetype": "text/x-python",
   "name": "python",
   "nbconvert_exporter": "python",
   "pygments_lexer": "ipython3",
   "version": "3.6.7"
  }
 },
 "nbformat": 4,
 "nbformat_minor": 1
}
